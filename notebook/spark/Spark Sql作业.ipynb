{
 "cells": [
  {
   "cell_type": "markdown",
   "metadata": {},
   "source": [
    "##### 两个RDD的key分布在不同的分区，join算子需要shuffle,但是两个RDD在相同的partion时不需要shufflle;"
   ]
  },
  {
   "cell_type": "markdown",
   "metadata": {},
   "source": [
    "##### shuffle:是在不同的分区之间进行数据交换，进行数据混洗"
   ]
  },
  {
   "cell_type": "markdown",
   "metadata": {},
   "source": [
    "##### 在yarn-cluster模式下，driver运行机器出现故障导致不可用，yarn会在另一台机器上面重新运行driver,并重启所有的executor"
   ]
  },
  {
   "cell_type": "markdown",
   "metadata": {},
   "source": [
    "##### 在yarn-client模式下，driver运行机器出现故障导致不可用，整个程序会挂掉"
   ]
  },
  {
   "cell_type": "markdown",
   "metadata": {},
   "source": [
    "##### Spark SQl 底层还有Spark Core 可以运行在yarn上；Spark Sql具有容错功能；Spark Sql中的DataSet是一种带有schema的数据抽象；"
   ]
  },
  {
   "cell_type": "markdown",
   "metadata": {},
   "source": [
    "##### 一个sparksql应用程序可以存在多个SparkSession;"
   ]
  }
 ],
 "metadata": {
  "anaconda-cloud": {},
  "kernelspec": {
   "display_name": "Python [conda env:anaconda3]",
   "language": "python",
   "name": "conda-env-anaconda3-py"
  },
  "language_info": {
   "codemirror_mode": {
    "name": "ipython",
    "version": 3
   },
   "file_extension": ".py",
   "mimetype": "text/x-python",
   "name": "python",
   "nbconvert_exporter": "python",
   "pygments_lexer": "ipython3",
   "version": "3.5.2"
  }
 },
 "nbformat": 4,
 "nbformat_minor": 2
}
