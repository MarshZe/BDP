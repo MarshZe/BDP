{
 "cells": [
  {
   "cell_type": "markdown",
   "metadata": {},
   "source": [
    "# spark基础知识"
   ]
  },
  {
   "cell_type": "markdown",
   "metadata": {},
   "source": [
    "### 特点"
   ]
  },
  {
   "cell_type": "markdown",
   "metadata": {},
   "source": [
    "##### １、高效\n",
    "比MapReduce快１０～１００倍；内存计算引擎,提供 Cache 机制来支持需要反复迭代计算或\n",
    "者多次数据共享,减少数据读取的 IO 开销　　\n",
    "使用多线程池模型来减少 task 启动开销, shuffle 过程中避免\n",
    "不必要的 sort 操作以及减少磁盘 IO 操作　　\n",
    "DAG 引擎,减少多次计算之间中间结果写到 HDFS 的开销"
   ]
  },
  {
   "cell_type": "markdown",
   "metadata": {},
   "source": [
    "##### ２、易用性"
   ]
  },
  {
   "cell_type": "markdown",
   "metadata": {},
   "source": [
    "# 核心概念"
   ]
  },
  {
   "cell_type": "markdown",
   "metadata": {},
   "source": [
    "### RDD Resilient Distributed Datasets 弹性分布式数据集；\n",
    "RDD里面是数据集，数据集里面有很多元素，每一个元素是一个可序列化的java对象（必须实现序列化类）"
   ]
  },
  {
   "cell_type": "markdown",
   "metadata": {},
   "source": [
    "##### 分布式存储在集群的各个节点上(每一部分称为一个Partition )；数据分区　××××\n",
    "数据集合不可变，保持计算结果正确"
   ]
  },
  {
   "cell_type": "markdown",
   "metadata": {},
   "source": [
    "##### 可以选择不同的存储方式(磁盘或内存)"
   ]
  },
  {
   "cell_type": "markdown",
   "metadata": {},
   "source": [
    "##### 可以由一个 RDD 生成另外一个 RDD (转换操作)；×××"
   ]
  },
  {
   "cell_type": "markdown",
   "metadata": {},
   "source": [
    "##### 数据丢失后可以自动恢复\n",
    " which is a fault-tolerant collection of elements that can be operated on in parallel\n",
    "计算完成的数据丢失后可以重新计算回复数据；新RDD包含依赖（数据源）和计算方式"
   ]
  },
  {
   "cell_type": "markdown",
   "metadata": {},
   "source": [
    "# RDD的基本操作"
   ]
  },
  {
   "cell_type": "markdown",
   "metadata": {},
   "source": [
    "### 转换操作\n",
    "通过已有的RDD产生新的RDD　\n",
    "RDD(X) -> RDD(Y) \n",
    "只会记录 RDD 转化关系,并不会触发计算(惰性执行, Lazy Execution )在执行action动作的时候检查转换操作的RDD是否完成计算如果没有完成计算则进行计算"
   ]
  },
  {
   "cell_type": "markdown",
   "metadata": {},
   "source": [
    "### Action\n",
    "在结果RDD中计算得到一个或一组值；把RDD数据提取出来然后进行操作 \n",
    "RDD(X) -> Z(Z不是一个RDD,可能是基本类型或数据)"
   ]
  },
  {
   "cell_type": "markdown",
   "metadata": {},
   "source": [
    "### 初始化RDD的生成\n",
    "可通过Scala集合或者Hadoop数据集构造"
   ]
  },
  {
   "cell_type": "markdown",
   "metadata": {},
   "source": [
    "### 数据要不要复用和计算代价决定是不是需要内存"
   ]
  },
  {
   "cell_type": "markdown",
   "metadata": {},
   "source": [
    "# 实例代码"
   ]
  },
  {
   "cell_type": "markdown",
   "metadata": {},
   "source": [
    "### 初始化spark环境　\n",
    "SparkSession spark = SparkSession.builder().getOrCreate();"
   ]
  },
  {
   "cell_type": "markdown",
   "metadata": {},
   "source": [
    "### create distributed datasets"
   ]
  },
  {
   "cell_type": "markdown",
   "metadata": {},
   "source": [
    "##### JavaRDD<String> distFile = sc.textFile(\"data.txt\");"
   ]
  },
  {
   "cell_type": "markdown",
   "metadata": {},
   "source": [
    "# Driver"
   ]
  },
  {
   "cell_type": "markdown",
   "metadata": {},
   "source": [
    "##### 启动一个Driver多个Excuter"
   ]
  },
  {
   "cell_type": "markdown",
   "metadata": {},
   "source": [
    "# Spark官方文档\n",
    "http://spark.apache.org/docs/2.1.0/programming-guide.html"
   ]
  },
  {
   "cell_type": "markdown",
   "metadata": {},
   "source": [
    "# Spark在线练习\n",
    "http://ampcamp.berkeley.edu/  \n",
    "\n",
    "http://ampcamp.berkeley.edu/big-data-mini-course/"
   ]
  },
  {
   "cell_type": "markdown",
   "metadata": {},
   "source": [
    "# 推荐博客"
   ]
  },
  {
   "cell_type": "markdown",
   "metadata": {},
   "source": [
    "##### https://databricks.com/blog/category/engineering"
   ]
  },
  {
   "cell_type": "markdown",
   "metadata": {},
   "source": [
    "##### http://hortonworks.com/blog/"
   ]
  },
  {
   "cell_type": "markdown",
   "metadata": {},
   "source": [
    "##### http://blog.cloudera.com/"
   ]
  },
  {
   "cell_type": "markdown",
   "metadata": {},
   "source": [
    "# Streams API"
   ]
  },
  {
   "cell_type": "markdown",
   "metadata": {},
   "source": [
    "##### https://www.ibm.com/developerworks/cn/java/j-lo-java8streamapi/"
   ]
  },
  {
   "cell_type": "code",
   "execution_count": null,
   "metadata": {
    "collapsed": true
   },
   "outputs": [],
   "source": []
  }
 ],
 "metadata": {
  "anaconda-cloud": {},
  "kernelspec": {
   "display_name": "Python [conda env:anaconda3]",
   "language": "python",
   "name": "conda-env-anaconda3-py"
  },
  "language_info": {
   "codemirror_mode": {
    "name": "ipython",
    "version": 3
   },
   "file_extension": ".py",
   "mimetype": "text/x-python",
   "name": "python",
   "nbconvert_exporter": "python",
   "pygments_lexer": "ipython3",
   "version": "3.5.2"
  }
 },
 "nbformat": 4,
 "nbformat_minor": 2
}
